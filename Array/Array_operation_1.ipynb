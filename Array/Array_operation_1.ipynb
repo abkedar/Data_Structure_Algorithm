{
  "nbformat": 4,
  "nbformat_minor": 0,
  "metadata": {
    "colab": {
      "name": "Array_operation_1.ipynb",
      "provenance": []
    },
    "kernelspec": {
      "name": "python3",
      "display_name": "Python 3"
    }
  },
  "cells": [
    {
      "cell_type": "markdown",
      "metadata": {
        "id": "miDJ3q9eX7B6",
        "colab_type": "text"
      },
      "source": [
        "# Simpe Array operation\n",
        " - Program to search a element in bitonic array"
      ]
    },
    {
      "cell_type": "code",
      "metadata": {
        "id": "u4YJj8QvQiUi",
        "colab_type": "code",
        "colab": {}
      },
      "source": [
        "def bitcoin_search(arr, low, high):\n",
        "\n",
        "  if not arr:\n",
        "    return \"List is empty\"\n",
        "  if low == high:\n",
        "    return arr[high]\n",
        "  \n",
        "  mid = int((low + high)/2)\n",
        "\n",
        "  if arr[mid] < arr[mid+1]:\n",
        "    return bitcoin_search(arr, mid+1, high)\n",
        "  elif arr[mid] < arr[mid-1]:\n",
        "    return bitcoin_search(arr, low, mid-1)\n",
        "  else:\n",
        "    return arr[mid]\n"
      ],
      "execution_count": 46,
      "outputs": []
    },
    {
      "cell_type": "code",
      "metadata": {
        "id": "_RK8vmrxTzEf",
        "colab_type": "code",
        "colab": {
          "base_uri": "https://localhost:8080/",
          "height": 34
        },
        "outputId": "a5200f7b-5e61-43d7-c6f1-427d6776bfaa"
      },
      "source": [
        "arr = [3, 4, 5, 7, 8, 13, 56, 44, 32, 9, 1]\n",
        "print(bitcoin_search(arr, 0, len(arr)-1))"
      ],
      "execution_count": 47,
      "outputs": [
        {
          "output_type": "stream",
          "text": [
            "56\n"
          ],
          "name": "stdout"
        }
      ]
    },
    {
      "cell_type": "markdown",
      "metadata": {
        "id": "y-ZYIEmYYKb1",
        "colab_type": "text"
      },
      "source": [
        "### Count Dunblicate operations\n",
        "\n",
        "- Program to find the number of duplicate elements in an array"
      ]
    },
    {
      "cell_type": "code",
      "metadata": {
        "id": "b1BajAbsYWbH",
        "colab_type": "code",
        "colab": {}
      },
      "source": [
        "def count_duplicate(arr):\n",
        "  records = {}\n",
        "\n",
        "  for a in arr:\n",
        "    if a not in records.keys():\n",
        "      records[a] = 0\n",
        "    elif records[a] == 0:\n",
        "      records[a] = 1\n",
        "  \n",
        "  count = 0\n",
        "  for record in records.values():\n",
        "    if record == 1:\n",
        "      count += 1\n",
        "  \n",
        "  return count"
      ],
      "execution_count": 48,
      "outputs": []
    },
    {
      "cell_type": "code",
      "metadata": {
        "id": "t5MHqnHaZxZ7",
        "colab_type": "code",
        "colab": {
          "base_uri": "https://localhost:8080/",
          "height": 34
        },
        "outputId": "5eca4cdd-bde0-4c16-b10a-4ff42c23d00d"
      },
      "source": [
        "count_duplicate(\"ababbdjhh\")"
      ],
      "execution_count": 49,
      "outputs": [
        {
          "output_type": "execute_result",
          "data": {
            "text/plain": [
              "3"
            ]
          },
          "metadata": {
            "tags": []
          },
          "execution_count": 49
        }
      ]
    },
    {
      "cell_type": "markdown",
      "metadata": {
        "id": "Ii_N6ODrbVQ8",
        "colab_type": "text"
      },
      "source": [
        "### First_and_last_occurence_in_sorted_array\n",
        "- Program to find the first and last occurence of an element in an array\n"
      ]
    },
    {
      "cell_type": "code",
      "metadata": {
        "id": "sE3joFNSZ2fa",
        "colab_type": "code",
        "colab": {}
      },
      "source": [
        "def find_first(arr, element):\n",
        "\n",
        "  for i in range(len(arr)):\n",
        "    if arr[i] == element:\n",
        "      return i\n",
        "  #return -1\n",
        "\n",
        "def find_last(arr, element):\n",
        "\n",
        "  for i in range(len(arr)):\n",
        "    if arr[i] == element:\n",
        "      if i+1 < len(arr) and arr[i+1] == element:\n",
        "        index = i+1\n",
        "      else:\n",
        "        index = i\n",
        "        break\n",
        "  return index"
      ],
      "execution_count": 74,
      "outputs": []
    },
    {
      "cell_type": "code",
      "metadata": {
        "id": "Gl_4Zq1ZdZWF",
        "colab_type": "code",
        "colab": {
          "base_uri": "https://localhost:8080/",
          "height": 50
        },
        "outputId": "d829a980-9483-4a1a-c579-75049af2253d"
      },
      "source": [
        "arr = [1, 2, 3, 3, 3, 3, 4, 5, 5, 5, 6, 7, 7]\n",
        "print (find_first(arr, 3))\n",
        "print (find_last(arr, 7))"
      ],
      "execution_count": 75,
      "outputs": [
        {
          "output_type": "stream",
          "text": [
            "2\n",
            "12\n"
          ],
          "name": "stdout"
        }
      ]
    },
    {
      "cell_type": "markdown",
      "metadata": {
        "id": "4bJ4dYNkF5uR",
        "colab_type": "text"
      },
      "source": [
        "# Majority_element\n",
        "- Find out the majority element in the array using Moore's algorithm"
      ]
    },
    {
      "cell_type": "code",
      "metadata": {
        "id": "nFVfa8QsFVM_",
        "colab_type": "code",
        "colab": {}
      },
      "source": [
        "def majority_element(ar):\n",
        "\n",
        "  count = 1\n",
        "  maj_index = 0\n",
        "\n",
        "  for i in range(len(ar)):\n",
        "    if count == 0:\n",
        "      maj_index = i\n",
        "      count=1\n",
        "    if ar[i] == ar[maj_index]:\n",
        "      count += 1\n",
        "    else:\n",
        "      count -= 1\n",
        "  return ar[maj_index]"
      ],
      "execution_count": 86,
      "outputs": []
    },
    {
      "cell_type": "code",
      "metadata": {
        "id": "41ML0JkdIfH_",
        "colab_type": "code",
        "colab": {
          "base_uri": "https://localhost:8080/",
          "height": 34
        },
        "outputId": "d267cb61-9d0d-4681-a28d-8b87c628a843"
      },
      "source": [
        "print (majority_element([2, 2, 3, 5, 2, 2, 6]))"
      ],
      "execution_count": 87,
      "outputs": [
        {
          "output_type": "stream",
          "text": [
            "2\n"
          ],
          "name": "stdout"
        }
      ]
    },
    {
      "cell_type": "code",
      "metadata": {
        "id": "fRIH4u4QIi02",
        "colab_type": "code",
        "colab": {}
      },
      "source": [
        ""
      ],
      "execution_count": null,
      "outputs": []
    }
  ]
}